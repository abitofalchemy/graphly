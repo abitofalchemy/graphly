{
 "cells": [
  {
   "cell_type": "markdown",
   "metadata": {},
   "source": []
  },
  {
   "cell_type": "code",
   "execution_count": null,
   "metadata": {
    "collapsed": true
   },
   "outputs": [],
   "source": [
    "print \"The answer should be three: \" + str(1+2)"
   ]
  },
  {
   "cell_type": "code",
   "execution_count": 2,
   "metadata": {
    "collapsed": false
   },
   "outputs": [
    {
     "name": "stdout",
     "output_type": "stream",
     "text": [
      "/bin/sh: nvidia-smi: command not found\r\n"
     ]
    }
   ],
   "source": [
    "!nvidia-smi"
   ]
  },
  {
   "cell_type": "code",
   "execution_count": 3,
   "metadata": {
    "collapsed": true
   },
   "outputs": [],
   "source": [
    "import numpy as np\n",
    "import theano\n",
    "# By convention, the tensor submodule is loaded as T\n",
    "import theano.tensor as T"
   ]
  },
  {
   "cell_type": "markdown",
   "metadata": {},
   "source": [
    "# Symbolic variables "
   ]
  },
  {
   "cell_type": "code",
   "execution_count": 4,
   "metadata": {
    "collapsed": false
   },
   "outputs": [
    {
     "name": "stdout",
     "output_type": "stream",
     "text": [
      "<class 'theano.tensor.var.TensorVariable'>\n",
      "(a ** TensorConstant{2})\n"
     ]
    }
   ],
   "source": [
    "a = T.scalar('a')\n",
    "\n",
    "# Define another variable as a squared\n",
    "b = a**2\n",
    "\n",
    "# b will also be a theano variable\n",
    "print type(b)\n",
    "\n",
    "# We can inspect how b is defined using theano's pretty print function\n",
    "print theano.pp(b)"
   ]
  },
  {
   "cell_type": "markdown",
   "metadata": {},
   "source": [
    "# Functions\n",
    "Symbolic functions"
   ]
  },
  {
   "cell_type": "code",
   "execution_count": 5,
   "metadata": {
    "collapsed": false
   },
   "outputs": [
    {
     "name": "stdout",
     "output_type": "stream",
     "text": [
      "4.0\n"
     ]
    }
   ],
   "source": [
    "f = theano.function([a],b)\n",
    "print f(2)\n"
   ]
  },
  {
   "cell_type": "code",
   "execution_count": 6,
   "metadata": {
    "collapsed": false
   },
   "outputs": [
    {
     "name": "stdout",
     "output_type": "stream",
     "text": [
      "4.0\n"
     ]
    }
   ],
   "source": [
    "print b.eval({a: 2})"
   ]
  },
  {
   "cell_type": "code",
   "execution_count": 7,
   "metadata": {
    "collapsed": false
   },
   "outputs": [
    {
     "name": "stdout",
     "output_type": "stream",
     "text": [
      "[ 14.  32.]\n"
     ]
    }
   ],
   "source": [
    "# theano.tensor (vectors, matrices, and tensors)\n",
    "# Define symbolic matrix and vector variables\n",
    "A = T.matrix('A')\n",
    "x = T.vector('x')\n",
    "\n",
    "# Define a symbolic function using these variables\n",
    "y = T.dot(A, x)\n",
    "\n",
    "# Define a theano function to compute y\n",
    "linear_func = theano.function([A, x], y)\n",
    "\n",
    "# Supply numeric values for A and x\n",
    "print linear_func(np.array([[1,2,3],[4,5,6]], dtype=theano.config.floatX),\n",
    "                  np.array([1,2,3], dtype=theano.config.floatX))"
   ]
  },
  {
   "cell_type": "markdown",
   "metadata": {},
   "source": [
    "# Toy Example of Logistic Regression\n"
   ]
  },
  {
   "cell_type": "code",
   "execution_count": 8,
   "metadata": {
    "collapsed": true
   },
   "outputs": [],
   "source": [
    "# Import some necessary Python visualization modules\n",
    "%matplotlib inline\n",
    "import matplotlib.pyplot as plt\n",
    "from IPython import display\n",
    "\n",
    "# Generate 50 random 2-D points\n",
    "x = np.random.random((50,2)).astype('float32')"
   ]
  },
  {
   "cell_type": "code",
   "execution_count": 10,
   "metadata": {
    "collapsed": false
   },
   "outputs": [
    {
     "data": {
      "image/png": "[encoded data removed]",
      "text/plain": [
       "<matplotlib.figure.Figure at 0x10f505a90>"
      ]
     },
     "metadata": {},
     "output_type": "display_data"
    }
   ],
   "source": [
    "# If point is above y=x then class is 1,\n",
    "# otherwise class is 0\n",
    "y = np.zeros((50,)).astype('int32')\n",
    "y[x[:,0]>x[:,1]] = 1\n",
    "\n",
    "# Plot the points \n",
    "plt.scatter(x[:,0], x[:,1], c=y, s=100, alpha=0.8)\n",
    "plt.show()"
   ]
  },
  {
   "cell_type": "markdown",
   "metadata": {},
   "source": [
    "Using logistic regression, a probabilistic linear classifier, we will\n",
    "try to determine if an input vector *x* belongs to class *i*. We use *softmax* function, which is used to represent a categorical distribution. In other words, we want to determine the category to which this input belongs. This type of function highlights the largest values and supresses those that significantly below the maximum value (see this [link](https://en.wikipedia.org/wiki/Softmax_function) for more detail)."
   ]
  },
  {
   "cell_type": "code",
   "execution_count": 11,
   "metadata": {
    "collapsed": true
   },
   "outputs": [],
   "source": [
    "## Let's define a logistic regression Class\n",
    "class LogisticRegression(object):\n",
    "    \n",
    "    def __init__(self, input, n_in, n_out):\n",
    "\n",
    "        # Initialize pseudo-random number generator\n",
    "        rng = np.random.RandomState(1234)\n",
    "        \n",
    "        # Randomly generate weight matrix W\n",
    "        W_values = np.asarray(\n",
    "            rng.uniform(\n",
    "                low=-np.sqrt(6. / (n_in + n_out)),\n",
    "                high=np.sqrt(6. / (n_in + n_out)),\n",
    "                size=(n_in, n_out)\n",
    "            ),\n",
    "            dtype=theano.config.floatX\n",
    "        )\n",
    "\n",
    "        self.W = theano.shared(value=W_values, name='W', borrow=True)        \n",
    "\n",
    "        # Randomly initialize bias vector b\n",
    "        b_values = np.zeros((n_out,), dtype=theano.config.floatX)\n",
    "        self.b = theano.shared(value=b_values, name='b', borrow=True)\n",
    "\n",
    "        # Define feed-forward function\n",
    "        self.p_y_given_x = T.nnet.softmax(T.dot(input, self.W) + self.b)\n",
    "        \n",
    "        # Specify parameters of layer\n",
    "        self.params = [self.W, self.b]\n",
    "        \n",
    "    def predict(self, input):\n",
    "        \n",
    "        # Function to apply layer feedforward to new input data\n",
    "        return T.nnet.softmax(T.dot(input, self.W) + self.b)"
   ]
  },
  {
   "cell_type": "markdown",
   "metadata": {},
   "source": [
    "Pr(Y=*i*|x, W, b) = *softmax_i*(W *x* + *b*)"
   ]
  },
  {
   "cell_type": "code",
   "execution_count": 12,
   "metadata": {
    "collapsed": false
   },
   "outputs": [
    {
     "name": "stdout",
     "output_type": "stream",
     "text": [
      "[[ 0.27409227  0.72590773]]\n"
     ]
    }
   ],
   "source": [
    "# Define theano shared variables for the input data and labels\n",
    "shared_x = theano.shared(np.asarray(x, dtype=theano.config.floatX), borrow=True)\n",
    "shared_y = theano.shared(np.asarray(y, dtype=theano.config.floatX), borrow=True)\n",
    "shared_y = T.cast(shared_y, 'int32')\n",
    "\n",
    "# Initialize a logistic regressor with 2-dimensional inputs\n",
    "# and 2 classes for output with the first row of x as input\n",
    "lr = LogisticRegression(shared_x[0,:], 2, 2)\n",
    "# Feed the first data sample from x through the regressor and print output\n",
    "print lr.p_y_given_x.eval()"
   ]
  },
  {
   "cell_type": "code",
   "execution_count": 13,
   "metadata": {
    "collapsed": false
   },
   "outputs": [
    {
     "name": "stdout",
     "output_type": "stream",
     "text": [
      "[[ 0.27409227  0.72590773]\n",
      " [ 0.3733685   0.6266315 ]\n",
      " [ 0.15757395  0.84242605]\n",
      " [ 0.37507542  0.62492458]\n",
      " [ 0.25535897  0.74464103]\n",
      " [ 0.21102775  0.78897225]\n",
      " [ 0.29462324  0.70537676]\n",
      " [ 0.29242799  0.70757201]\n",
      " [ 0.38620675  0.61379325]\n",
      " [ 0.37546682  0.62453318]]\n"
     ]
    }
   ],
   "source": [
    "# Initialize a logistic regressor with 2-dimensional inputs\n",
    "# and 2 classes for output but now with all of x as input\n",
    "lr = LogisticRegression(shared_x, 2, 2)\n",
    "# Print the first 10 data samples from x through the regressor and print output\n",
    "print lr.p_y_given_x.eval()[:10]"
   ]
  },
  {
   "cell_type": "markdown",
   "metadata": {},
   "source": [
    "# References\n",
    "This is based on a project on github by [daviddao](https://github.com/daviddao/nvidia-deep-learning-tutorial/blob/master/Getting%20started%20with%20Theano.ipynb)\n"
   ]
  },
  {
   "cell_type": "code",
   "execution_count": null,
   "metadata": {
    "collapsed": true
   },
   "outputs": [],
   "source": []
  }
 ],
 "metadata": {
  "anaconda-cloud": {},
  "kernelspec": {
   "display_name": "Python [Root]",
   "language": "python",
   "name": "Python [Root]"
  },
  "language_info": {
   "codemirror_mode": {
    "name": "ipython",
    "version": 2
   },
   "file_extension": ".py",
   "mimetype": "text/x-python",
   "name": "python",
   "nbconvert_exporter": "python",
   "pygments_lexer": "ipython2",
   "version": "2.7.12"
  }
 },
 "nbformat": 4,
 "nbformat_minor": 0
}
